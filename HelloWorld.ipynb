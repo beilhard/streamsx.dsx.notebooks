{
    "nbformat": 4, 
    "metadata": {
        "language_info": {
            "pygments_lexer": "ipython3", 
            "codemirror_mode": {
                "version": 3, 
                "name": "ipython"
            }, 
            "nbconvert_exporter": "python", 
            "mimetype": "text/x-python", 
            "version": "3.5.2", 
            "file_extension": ".py", 
            "name": "python"
        }, 
        "kernelspec": {
            "language": "python", 
            "name": "python3", 
            "display_name": "Python 3.5 (Experimental) with Spark 1.6"
        }
    }, 
    "cells": [
        {
            "source": "# Hello World with Streaming Analytics service", 
            "metadata": {
                "collapsed": true
            }, 
            "cell_type": "markdown"
        }, 
        {
            "source": "Create a _Hello World_ streaming application that simply prints `Hello` and `DSX!` to the PE console of the application.\nThe application runs as a _job_ in the Streaming Analytic service running on IBM Bluemix.", 
            "metadata": {}, 
            "cell_type": "markdown"
        }, 
        {
            "execution_count": 5, 
            "metadata": {
                "collapsed": true
            }, 
            "source": "from streamsx.topology.topology import Topology\nfrom streamsx.topology.context import *\n\ntopo = Topology(\"hello_dsx\")\nhw = topo.source([\"Hello\", \"DSX!!\"])\nhw.print()", 
            "outputs": [], 
            "cell_type": "code"
        }, 
        {
            "source": "Now the application is submitted to the service, first we need to declare the VCAP services used to connect to the service.\n\nThis picks up the VCAP services from the file `vcap_services.json` create by the 'Create VCAP services' notebook. That must be run once before running this notebook.", 
            "metadata": {}, 
            "cell_type": "markdown"
        }, 
        {
            "execution_count": 6, 
            "metadata": {
                "collapsed": true
            }, 
            "source": "service_name='debrunne-streams2'", 
            "outputs": [], 
            "cell_type": "code"
        }, 
        {
            "execution_count": 7, 
            "metadata": {
                "collapsed": false
            }, 
            "source": "import json\n\nwith open('vcap_services.json') as json_data:\n    vs = json.load(json_data)", 
            "outputs": [], 
            "cell_type": "code"
        }, 
        {
            "source": "Now we submit the `topo` object that represents the application's topology to the `ANALYTICS_SERVICE` context, passing in the VCAP services information in the configuration.", 
            "metadata": {}, 
            "cell_type": "markdown"
        }, 
        {
            "execution_count": 8, 
            "metadata": {
                "collapsed": false
            }, 
            "source": "\ncfg = {}\ncfg[ConfigParams.VCAP_SERVICES] = vs\ncfg[ConfigParams.SERVICE_NAME] = service_name\nsubmit(\"ANALYTICS_SERVICE\", topo, cfg)\nprint(\"Done - Submitted job!\")", 
            "outputs": [
                {
                    "output_type": "stream", 
                    "name": "stderr", 
                    "text": "2017-01-24 12:45:50,063 - streamsx.topology.py_submit - INFO - Generating SPL and submitting application.\n"
                }, 
                {
                    "output_type": "stream", 
                    "name": "stdout", 
                    "text": "Jan 24, 2017 12:45:52 PM com.ibm.streamsx.topology.internal.context.remote.BuildServiceRemoteRESTWrapper remoteBuildAndSubmit\nINFO: Submitting application to remote build.\nJan 24, 2017 12:46:24 PM com.ibm.streamsx.topology.internal.context.remote.BuildServiceRemoteRESTWrapper remoteBuildAndSubmit\nINFO: The application built successfully.\nJan 24, 2017 12:46:25 PM com.ibm.streamsx.topology.internal.context.remote.BuildServiceRemoteRESTWrapper remoteBuildAndSubmit\nINFO: Submitting job to remote instance.\nDone - Submitted job!\n"
                }
            ], 
            "cell_type": "code"
        }, 
        {
            "source": "More text about looking for the output.", 
            "metadata": {}, 
            "cell_type": "markdown"
        }
    ], 
    "nbformat_minor": 0
}
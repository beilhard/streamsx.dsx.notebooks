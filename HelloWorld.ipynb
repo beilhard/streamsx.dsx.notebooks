{
    "nbformat": 4, 
    "metadata": {
        "language_info": {
            "pygments_lexer": "ipython3", 
            "codemirror_mode": {
                "version": 3, 
                "name": "ipython"
            }, 
            "nbconvert_exporter": "python", 
            "mimetype": "text/x-python", 
            "version": "3.5.2", 
            "file_extension": ".py", 
            "name": "python"
        }, 
        "kernelspec": {
            "language": "python", 
            "name": "python3", 
            "display_name": "Python 3.5 (Experimental) with Spark 1.6"
        }
    }, 
    "cells": [
        {
            "source": "# Hello World with Streaming Analytics service", 
            "metadata": {
                "collapsed": true
            }, 
            "cell_type": "markdown"
        }, 
        {
            "source": "Create a _Hello World_ streaming application that simply prints `Hello` and `DSX!` to the PE console of the application.\nThe application runs as a _job_ in the Streaming Analytic service running on IBM Bluemix.", 
            "metadata": {}, 
            "cell_type": "markdown"
        }, 
        {
            "execution_count": null, 
            "metadata": {
                "collapsed": true
            }, 
            "source": "from streamsx.topology.topology import Topology\nfrom streamsx.topology.context import *\n\ntopo = Topology(\"hello_dsx\")\nhw = topo.source([\"Hello\", \"DSX!!\"])\nhw.print()", 
            "outputs": [], 
            "cell_type": "code"
        }, 
        {
            "source": "Now the application is submitted to the service, first we need to declare the VCAP services used to connect to the service", 
            "metadata": {}, 
            "cell_type": "markdown"
        }, 
        {
            "execution_count": 2, 
            "metadata": {
                "collapsed": true
            }, 
            "source": "\nvs=\"\"\"\n{\n\"streaming-analytics\": [\n{\n  \"name\": \"debrunne-streams2\",\n  \"credentials\":\n  REPLACE_WITH_CREDENTIALS_COPIED_FROM_STREAMING_ANALYTICS_SERVICE\n}\n]\n}\n\n\"\"\"", 
            "outputs": [], 
            "cell_type": "code"
        }, 
        {
            "source": "Now we submit the `topo` object that represents the application's topology to the `ANALYTICS_SERVICE` context, passing in the VCAP services information in the configuration.", 
            "metadata": {}, 
            "cell_type": "markdown"
        }, 
        {
            "execution_count": 3, 
            "metadata": {
                "collapsed": false
            }, 
            "source": "import json\ncfg = {}\ncfg[ConfigParams.VCAP_SERVICES] = json.loads(vs)\ncfg[ConfigParams.SERVICE_NAME] = 'debrunne-streams2'\nsubmit(\"ANALYTICS_SERVICE\", topo, cfg)\nprint(\"Done - Submitted job!\")", 
            "outputs": [
                {
                    "output_type": "stream", 
                    "name": "stderr", 
                    "text": "2017-01-23 19:05:54,711 - streamsx.topology.py_submit - INFO - Generating SPL and submitting application.\n"
                }, 
                {
                    "output_type": "stream", 
                    "name": "stdout", 
                    "text": "Jan 23, 2017 7:05:57 PM com.ibm.streamsx.topology.internal.context.remote.BuildServiceRemoteRESTWrapper remoteBuildAndSubmit\nINFO: Submitting application to remote build.\nJan 23, 2017 7:06:37 PM com.ibm.streamsx.topology.internal.context.remote.BuildServiceRemoteRESTWrapper remoteBuildAndSubmit\nINFO: The application built successfully.\nJan 23, 2017 7:06:38 PM com.ibm.streamsx.topology.internal.context.remote.BuildServiceRemoteRESTWrapper remoteBuildAndSubmit\nINFO: Submitting job to remote instance.\nDone - Submitted job!\n"
                }
            ], 
            "cell_type": "code"
        }, 
        {
            "source": "More text about looking for the output.", 
            "metadata": {}, 
            "cell_type": "markdown"
        }
    ], 
    "nbformat_minor": 0
}
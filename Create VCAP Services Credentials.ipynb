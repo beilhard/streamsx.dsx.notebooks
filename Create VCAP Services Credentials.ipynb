{
    "nbformat": 4, 
    "cells": [
        {
            "source": "Show how to get credentials from service mgmt page.", 
            "cell_type": "markdown", 
            "metadata": {}
        }, 
        {
            "metadata": {
                "collapsed": true
            }, 
            "execution_count": 6, 
            "cell_type": "code", 
            "source": "service_name='REPLACE_WITH_SERVICE_NAME'", 
            "outputs": []
        }, 
        {
            "metadata": {
                "collapsed": true
            }, 
            "execution_count": 7, 
            "cell_type": "code", 
            "source": "credentials=REPLACE_WITH_CREDENTIALS", 
            "outputs": []
        }, 
        {
            "metadata": {
                "collapsed": true
            }, 
            "execution_count": 8, 
            "cell_type": "code", 
            "source": "vs={'streaming-analytics': [{'name': service_name, 'credentials': credentials}]}", 
            "outputs": []
        }, 
        {
            "metadata": {
                "collapsed": true
            }, 
            "execution_count": 9, 
            "cell_type": "code", 
            "source": "import json\nwith open('vcap_services.json', 'w') as outfile:\n    json.dump(vs, outfile)", 
            "outputs": []
        }
    ], 
    "metadata": {
        "language_info": {
            "file_extension": ".py", 
            "name": "python", 
            "pygments_lexer": "ipython3", 
            "nbconvert_exporter": "python", 
            "version": "3.5.2", 
            "mimetype": "text/x-python", 
            "codemirror_mode": {
                "version": 3, 
                "name": "ipython"
            }
        }, 
        "kernelspec": {
            "language": "python", 
            "display_name": "Python 3.5 (Experimental) with Spark 1.6", 
            "name": "python3"
        }
    }, 
    "nbformat_minor": 0
}
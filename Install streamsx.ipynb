{
    "cells": [
        {
            "cell_type": "markdown", 
            "source": "# Install streamsx\nInstalls the Python package `streamsx` from PyPi into your DSX environment to allow access to a IBM Bluemix [Streaming Analytics service](https://console.ng.bluemix.net/catalog/services/streaming-analytics).\n\nOnce installed in a Data Science Experience environment you can:\n* Create streaming application that execute in the Streaming Analytics service\n* Access data streams from views defined in any application running on the service", 
            "metadata": {
                "collapsed": true
            }
        }, 
        {
            "cell_type": "code", 
            "source": "!pip uninstall --yes streamsx", 
            "metadata": {
                "collapsed": false
            }, 
            "execution_count": null, 
            "outputs": []
        }, 
        {
            "cell_type": "markdown", 
            "source": "More text", 
            "metadata": {}
        }, 
        {
            "cell_type": "code", 
            "source": "!pip install streamsx", 
            "metadata": {
                "collapsed": false
            }, 
            "execution_count": 2, 
            "outputs": [
                {
                    "output_type": "stream", 
                    "text": "Collecting streamsx\n  Using cached streamsx-0.5.0-py2.py3-none-any.whl\nRequirement already satisfied (use --upgrade to upgrade): requests in /gpfs/global_fs01/sym_shared/YPProdSpark/user/s331-aa303713f24ddb-6bc6a4aebd21/.local/lib/python3.5/site-packages (from streamsx)\nRequirement already satisfied (use --upgrade to upgrade): future in /gpfs/global_fs01/sym_shared/YPProdSpark/user/s331-aa303713f24ddb-6bc6a4aebd21/.local/lib/python3.5/site-packages (from streamsx)\nRequirement already satisfied (use --upgrade to upgrade): dill in /usr/local/src/conda3_runtime.v4/4.1.1/lib/python3.5/site-packages (from streamsx)\nInstalling collected packages: streamsx\nSuccessfully installed streamsx-0.5.0\n", 
                    "name": "stdout"
                }
            ]
        }, 
        {
            "cell_type": "code", 
            "source": "", 
            "metadata": {
                "collapsed": true
            }, 
            "execution_count": null, 
            "outputs": []
        }
    ], 
    "nbformat_minor": 0, 
    "metadata": {
        "kernelspec": {
            "language": "python", 
            "name": "python3", 
            "display_name": "Python 3.5 (Experimental) with Spark 1.6"
        }, 
        "language_info": {
            "pygments_lexer": "ipython3", 
            "nbconvert_exporter": "python", 
            "mimetype": "text/x-python", 
            "name": "python", 
            "version": "3.5.2", 
            "file_extension": ".py", 
            "codemirror_mode": {
                "version": 3, 
                "name": "ipython"
            }
        }
    }, 
    "nbformat": 4
}